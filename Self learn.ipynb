{
 "cells": [
  {
   "cell_type": "code",
   "execution_count": 101,
   "metadata": {},
   "outputs": [],
   "source": [
    "import pandas as pd\n",
    "import numpy as np\n",
    "import sklearn\n",
    "from sklearn import linear_model\n",
    "from sklearn.utils import shuffle\n",
    "import matplotlib.pyplot as pyplot\n",
    "import pickle\n",
    "from matplotlib import style\n"
   ]
  },
  {
   "cell_type": "code",
   "execution_count": 59,
   "metadata": {},
   "outputs": [],
   "source": [
    "data=pd.read_csv('C:/Users/2ez4rtz/Desktop/Github repository/materials/python/student-mat.csv',sep=\";\")"
   ]
  },
  {
   "cell_type": "code",
   "execution_count": 60,
   "metadata": {},
   "outputs": [
    {
     "name": "stdout",
     "output_type": "stream",
     "text": [
      "<bound method NDFrame.head of     school sex  age address famsize Pstatus  Medu  Fedu      Mjob      Fjob  \\\n",
      "0       GP   F   18       U     GT3       A     4     4   at_home   teacher   \n",
      "1       GP   F   17       U     GT3       T     1     1   at_home     other   \n",
      "2       GP   F   15       U     LE3       T     1     1   at_home     other   \n",
      "3       GP   F   15       U     GT3       T     4     2    health  services   \n",
      "4       GP   F   16       U     GT3       T     3     3     other     other   \n",
      "5       GP   M   16       U     LE3       T     4     3  services     other   \n",
      "6       GP   M   16       U     LE3       T     2     2     other     other   \n",
      "7       GP   F   17       U     GT3       A     4     4     other   teacher   \n",
      "8       GP   M   15       U     LE3       A     3     2  services     other   \n",
      "9       GP   M   15       U     GT3       T     3     4     other     other   \n",
      "10      GP   F   15       U     GT3       T     4     4   teacher    health   \n",
      "11      GP   F   15       U     GT3       T     2     1  services     other   \n",
      "12      GP   M   15       U     LE3       T     4     4    health  services   \n",
      "13      GP   M   15       U     GT3       T     4     3   teacher     other   \n",
      "14      GP   M   15       U     GT3       A     2     2     other     other   \n",
      "15      GP   F   16       U     GT3       T     4     4    health     other   \n",
      "16      GP   F   16       U     GT3       T     4     4  services  services   \n",
      "17      GP   F   16       U     GT3       T     3     3     other     other   \n",
      "18      GP   M   17       U     GT3       T     3     2  services  services   \n",
      "19      GP   M   16       U     LE3       T     4     3    health     other   \n",
      "20      GP   M   15       U     GT3       T     4     3   teacher     other   \n",
      "21      GP   M   15       U     GT3       T     4     4    health    health   \n",
      "22      GP   M   16       U     LE3       T     4     2   teacher     other   \n",
      "23      GP   M   16       U     LE3       T     2     2     other     other   \n",
      "24      GP   F   15       R     GT3       T     2     4  services    health   \n",
      "25      GP   F   16       U     GT3       T     2     2  services  services   \n",
      "26      GP   M   15       U     GT3       T     2     2     other     other   \n",
      "27      GP   M   15       U     GT3       T     4     2    health  services   \n",
      "28      GP   M   16       U     LE3       A     3     4  services     other   \n",
      "29      GP   M   16       U     GT3       T     4     4   teacher   teacher   \n",
      "..     ...  ..  ...     ...     ...     ...   ...   ...       ...       ...   \n",
      "365     MS   M   18       R     GT3       T     1     3   at_home     other   \n",
      "366     MS   M   18       U     LE3       T     4     4   teacher  services   \n",
      "367     MS   F   17       R     GT3       T     1     1     other  services   \n",
      "368     MS   F   18       U     GT3       T     2     3   at_home  services   \n",
      "369     MS   F   18       R     GT3       T     4     4     other   teacher   \n",
      "370     MS   F   19       U     LE3       T     3     2  services  services   \n",
      "371     MS   M   18       R     LE3       T     1     2   at_home  services   \n",
      "372     MS   F   17       U     GT3       T     2     2     other   at_home   \n",
      "373     MS   F   17       R     GT3       T     1     2     other     other   \n",
      "374     MS   F   18       R     LE3       T     4     4     other     other   \n",
      "375     MS   F   18       R     GT3       T     1     1     other     other   \n",
      "376     MS   F   20       U     GT3       T     4     2    health     other   \n",
      "377     MS   F   18       R     LE3       T     4     4   teacher  services   \n",
      "378     MS   F   18       U     GT3       T     3     3     other     other   \n",
      "379     MS   F   17       R     GT3       T     3     1   at_home     other   \n",
      "380     MS   M   18       U     GT3       T     4     4   teacher   teacher   \n",
      "381     MS   M   18       R     GT3       T     2     1     other     other   \n",
      "382     MS   M   17       U     GT3       T     2     3     other  services   \n",
      "383     MS   M   19       R     GT3       T     1     1     other  services   \n",
      "384     MS   M   18       R     GT3       T     4     2     other     other   \n",
      "385     MS   F   18       R     GT3       T     2     2   at_home     other   \n",
      "386     MS   F   18       R     GT3       T     4     4   teacher   at_home   \n",
      "387     MS   F   19       R     GT3       T     2     3  services     other   \n",
      "388     MS   F   18       U     LE3       T     3     1   teacher  services   \n",
      "389     MS   F   18       U     GT3       T     1     1     other     other   \n",
      "390     MS   M   20       U     LE3       A     2     2  services  services   \n",
      "391     MS   M   17       U     LE3       T     3     1  services  services   \n",
      "392     MS   M   21       R     GT3       T     1     1     other     other   \n",
      "393     MS   M   18       R     LE3       T     3     2  services     other   \n",
      "394     MS   M   19       U     LE3       T     1     1     other   at_home   \n",
      "\n",
      "     ... famrel freetime  goout  Dalc  Walc health absences  G1  G2  G3  \n",
      "0    ...      4        3      4     1     1      3        6   5   6   6  \n",
      "1    ...      5        3      3     1     1      3        4   5   5   6  \n",
      "2    ...      4        3      2     2     3      3       10   7   8  10  \n",
      "3    ...      3        2      2     1     1      5        2  15  14  15  \n",
      "4    ...      4        3      2     1     2      5        4   6  10  10  \n",
      "5    ...      5        4      2     1     2      5       10  15  15  15  \n",
      "6    ...      4        4      4     1     1      3        0  12  12  11  \n",
      "7    ...      4        1      4     1     1      1        6   6   5   6  \n",
      "8    ...      4        2      2     1     1      1        0  16  18  19  \n",
      "9    ...      5        5      1     1     1      5        0  14  15  15  \n",
      "10   ...      3        3      3     1     2      2        0  10   8   9  \n",
      "11   ...      5        2      2     1     1      4        4  10  12  12  \n",
      "12   ...      4        3      3     1     3      5        2  14  14  14  \n",
      "13   ...      5        4      3     1     2      3        2  10  10  11  \n",
      "14   ...      4        5      2     1     1      3        0  14  16  16  \n",
      "15   ...      4        4      4     1     2      2        4  14  14  14  \n",
      "16   ...      3        2      3     1     2      2        6  13  14  14  \n",
      "17   ...      5        3      2     1     1      4        4   8  10  10  \n",
      "18   ...      5        5      5     2     4      5       16   6   5   5  \n",
      "19   ...      3        1      3     1     3      5        4   8  10  10  \n",
      "20   ...      4        4      1     1     1      1        0  13  14  15  \n",
      "21   ...      5        4      2     1     1      5        0  12  15  15  \n",
      "22   ...      4        5      1     1     3      5        2  15  15  16  \n",
      "23   ...      5        4      4     2     4      5        0  13  13  12  \n",
      "24   ...      4        3      2     1     1      5        2  10   9   8  \n",
      "25   ...      1        2      2     1     3      5       14   6   9   8  \n",
      "26   ...      4        2      2     1     2      5        2  12  12  11  \n",
      "27   ...      2        2      4     2     4      1        4  15  16  15  \n",
      "28   ...      5        3      3     1     1      5        4  11  11  11  \n",
      "29   ...      4        4      5     5     5      5       16  10  12  11  \n",
      "..   ...    ...      ...    ...   ...   ...    ...      ...  ..  ..  ..  \n",
      "365  ...      3        3      4     2     4      3        4  10  10  10  \n",
      "366  ...      4        2      2     2     2      5        0  13  13  13  \n",
      "367  ...      5        2      1     1     2      1        0   7   6   0  \n",
      "368  ...      5        2      3     1     2      4        0  11  10  10  \n",
      "369  ...      3        2      2     4     2      5       10  14  12  11  \n",
      "370  ...      3        2      2     1     1      3        4   7   7   9  \n",
      "371  ...      4        3      3     2     3      3        3  14  12  12  \n",
      "372  ...      3        4      3     1     1      3        8  13  11  11  \n",
      "373  ...      3        5      5     1     3      1       14   6   5   5  \n",
      "374  ...      5        4      4     1     1      1        0  19  18  19  \n",
      "375  ...      4        3      2     1     2      4        2   8   8  10  \n",
      "376  ...      5        4      3     1     1      3        4  15  14  15  \n",
      "377  ...      5        4      3     3     4      2        4   8   9  10  \n",
      "378  ...      4        1      3     1     2      1        0  15  15  15  \n",
      "379  ...      4        5      4     2     3      1       17  10  10  10  \n",
      "380  ...      3        2      4     1     4      2        4  15  14  14  \n",
      "381  ...      4        4      3     1     3      5        5   7   6   7  \n",
      "382  ...      4        4      3     1     1      3        2  11  11  10  \n",
      "383  ...      4        3      2     1     3      5        0   6   5   0  \n",
      "384  ...      5        4      3     4     3      3       14   6   5   5  \n",
      "385  ...      5        3      3     1     3      4        2  10   9  10  \n",
      "386  ...      4        4      3     2     2      5        7   6   5   6  \n",
      "387  ...      5        4      2     1     2      5        0   7   5   0  \n",
      "388  ...      4        3      4     1     1      1        0   7   9   8  \n",
      "389  ...      1        1      1     1     1      5        0   6   5   0  \n",
      "390  ...      5        5      4     4     5      4       11   9   9   9  \n",
      "391  ...      2        4      5     3     4      2        3  14  16  16  \n",
      "392  ...      5        5      3     3     3      3        3  10   8   7  \n",
      "393  ...      4        4      1     3     4      5        0  11  12  10  \n",
      "394  ...      3        2      3     3     3      5        5   8   9   9  \n",
      "\n",
      "[395 rows x 33 columns]>\n"
     ]
    }
   ],
   "source": [
    "print(data.head)"
   ]
  },
  {
   "cell_type": "code",
   "execution_count": 61,
   "metadata": {},
   "outputs": [
    {
     "name": "stdout",
     "output_type": "stream",
     "text": [
      "<bound method NDFrame.head of      G1  G2  G3  studytime  failures  absences\n",
      "0     5   6   6          2         0         6\n",
      "1     5   5   6          2         0         4\n",
      "2     7   8  10          2         3        10\n",
      "3    15  14  15          3         0         2\n",
      "4     6  10  10          2         0         4\n",
      "5    15  15  15          2         0        10\n",
      "6    12  12  11          2         0         0\n",
      "7     6   5   6          2         0         6\n",
      "8    16  18  19          2         0         0\n",
      "9    14  15  15          2         0         0\n",
      "10   10   8   9          2         0         0\n",
      "11   10  12  12          3         0         4\n",
      "12   14  14  14          1         0         2\n",
      "13   10  10  11          2         0         2\n",
      "14   14  16  16          3         0         0\n",
      "15   14  14  14          1         0         4\n",
      "16   13  14  14          3         0         6\n",
      "17    8  10  10          2         0         4\n",
      "18    6   5   5          1         3        16\n",
      "19    8  10  10          1         0         4\n",
      "20   13  14  15          2         0         0\n",
      "21   12  15  15          1         0         0\n",
      "22   15  15  16          2         0         2\n",
      "23   13  13  12          2         0         0\n",
      "24   10   9   8          3         0         2\n",
      "25    6   9   8          1         2        14\n",
      "26   12  12  11          1         0         2\n",
      "27   15  16  15          1         0         4\n",
      "28   11  11  11          2         0         4\n",
      "29   10  12  11          2         0        16\n",
      "..   ..  ..  ..        ...       ...       ...\n",
      "365  10  10  10          2         0         4\n",
      "366  13  13  13          3         0         0\n",
      "367   7   6   0          1         1         0\n",
      "368  11  10  10          1         0         0\n",
      "369  14  12  11          2         0        10\n",
      "370   7   7   9          2         2         4\n",
      "371  14  12  12          1         0         3\n",
      "372  13  11  11          3         0         8\n",
      "373   6   5   5          1         0        14\n",
      "374  19  18  19          3         0         0\n",
      "375   8   8  10          3         0         2\n",
      "376  15  14  15          3         2         4\n",
      "377   8   9  10          2         0         4\n",
      "378  15  15  15          2         0         0\n",
      "379  10  10  10          2         0        17\n",
      "380  15  14  14          2         0         4\n",
      "381   7   6   7          1         0         5\n",
      "382  11  11  10          2         0         2\n",
      "383   6   5   0          1         1         0\n",
      "384   6   5   5          1         1        14\n",
      "385  10   9  10          3         0         2\n",
      "386   6   5   6          1         0         7\n",
      "387   7   5   0          3         1         0\n",
      "388   7   9   8          2         0         0\n",
      "389   6   5   0          2         1         0\n",
      "390   9   9   9          2         2        11\n",
      "391  14  16  16          1         0         3\n",
      "392  10   8   7          1         3         3\n",
      "393  11  12  10          1         0         0\n",
      "394   8   9   9          1         0         5\n",
      "\n",
      "[395 rows x 6 columns]>\n"
     ]
    }
   ],
   "source": [
    "data=data[['G1','G2','G3','studytime','failures','absences']]\n",
    "print(data.head)"
   ]
  },
  {
   "cell_type": "code",
   "execution_count": 70,
   "metadata": {},
   "outputs": [
    {
     "name": "stdout",
     "output_type": "stream",
     "text": [
      "G3\n"
     ]
    }
   ],
   "source": [
    "predict='G3'\n",
    "print(predict)"
   ]
  },
  {
   "cell_type": "code",
   "execution_count": 69,
   "metadata": {},
   "outputs": [
    {
     "name": "stdout",
     "output_type": "stream",
     "text": [
      "this is X [[ 5  6  2  0  6]\n",
      " [ 5  5  2  0  4]\n",
      " [ 7  8  2  3 10]\n",
      " ...\n",
      " [10  8  1  3  3]\n",
      " [11 12  1  0  0]\n",
      " [ 8  9  1  0  5]]\n",
      "y= [ 6  6 10 15 10 15 11  6 19 15  9 12 14 11 16 14 14 10  5 10 15 15 16 12\n",
      "  8  8 11 15 11 11 12 17 16 12 15  6 18 15 11 13 11 12 18 11  9  6 11 20\n",
      " 14  7 13 13 10 11 13 10 15 15  9 16 11 11  9  9 10 15 12  6  8 16 15 10\n",
      "  5 14 11 10 10 11 10  5 12 11  6 15 10  8  6 14 10  7  8 18  6 10 14 10\n",
      " 15 10 14  8  5 17 14  6 18 11  8 18 13 16 19 10 13 19  9 16 14 13  8 13\n",
      " 15 15 13 13  8 12 11  9  0 18  0  0 12 11  0  0  0  0 12 15  0  9 11 13\n",
      "  0 11  0 11  0 10  0 14 10  0 12  8 13 10 15 12  0  7  0 10  7 12 10 16\n",
      "  0 14  0 16 10  0  9  9 11  6  9 11  8 12 17  8 12 11 11 15  9 10 13  9\n",
      "  8 10 14 15 16 10 18 10 16 10 10  6 11  9  7 13 10  7  8 13 14  8 10 15\n",
      "  4  8  8 10  6  0 17 13 14  7 15 12  9 12 14 11  9 13  6 10 13 12 11  0\n",
      " 12 12  0 12  0 18 13  8  5 15  8 10  8  8 12  8 13 11 14  0 18  8 12  9\n",
      "  0 17 10 11 10  0  9 14 11 14 10 12  9  9  8 10  8 10 12 10 11 11 19 12\n",
      " 14 15 11 15 13 18 14 11  0  8 14 16 11 10 14 18 13 12 18  8 12 10  0 13\n",
      " 11 11 13 11  0  9 10 11 13  9 11 15 15 11 16 10  9 14  8 14  0  0  0 15\n",
      " 13  0 17 10 11  0 15  0 10 14 16  9 15 13  8 13  8  8 11  9 13 11 10 16\n",
      " 13 12 10 15 12 10 13  0 10 11  9 12 11  5 19 10 15 10 15 10 14  7 10  0\n",
      "  5 10  6  0  8  0  9 16  7 10  9]\n"
     ]
    }
   ],
   "source": [
    "x=np.array(data.drop([predict],1))\n",
    "y=np.array(data[predict])\n",
    "print('this is X',x)\n",
    "print('y=',y)"
   ]
  },
  {
   "cell_type": "code",
   "execution_count": 75,
   "metadata": {},
   "outputs": [],
   "source": [
    "x_train,x_test,y_train,y_test=sklearn.model_selection.train_test_split(x,y,test_size=0.1)"
   ]
  },
  {
   "cell_type": "code",
   "execution_count": 76,
   "metadata": {},
   "outputs": [],
   "source": [
    "linear=linear_model.LinearRegression()"
   ]
  },
  {
   "cell_type": "code",
   "execution_count": 77,
   "metadata": {},
   "outputs": [
    {
     "data": {
      "text/plain": [
       "LinearRegression(copy_X=True, fit_intercept=True, n_jobs=None, normalize=False)"
      ]
     },
     "execution_count": 77,
     "metadata": {},
     "output_type": "execute_result"
    }
   ],
   "source": [
    "linear.fit(x_train,y_train)"
   ]
  },
  {
   "cell_type": "code",
   "execution_count": 78,
   "metadata": {},
   "outputs": [],
   "source": [
    "acc=linear.score(x_test,y_test)"
   ]
  },
  {
   "cell_type": "code",
   "execution_count": 83,
   "metadata": {},
   "outputs": [
    {
     "name": "stdout",
     "output_type": "stream",
     "text": [
      "0.8149571648289063\n"
     ]
    }
   ],
   "source": [
    "print(acc)"
   ]
  },
  {
   "cell_type": "code",
   "execution_count": null,
   "metadata": {},
   "outputs": [],
   "source": [
    "if acc > best:\n",
    "    best=acc\n",
    "    with open(\"studentmodel.pickle\",'wb') as f:\n",
    "    pickle.dump(linear, f)\n",
    "    pickle_in=open(\"studentmodel.pickle\",\"rb\")\n",
    "    linear=pickle.load(pickle_in)"
   ]
  },
  {
   "cell_type": "code",
   "execution_count": 82,
   "metadata": {},
   "outputs": [
    {
     "name": "stdout",
     "output_type": "stream",
     "text": [
      "Co: \n",
      " [ 0.12645722  0.98769722 -0.12490912 -0.35236136  0.04169052]\n",
      "Intercept:\n",
      " -1.3925441167962145\n"
     ]
    }
   ],
   "source": [
    "print('Co: \\n',linear.coef_)\n",
    "print('Intercept:\\n',linear.intercept_)"
   ]
  },
  {
   "cell_type": "code",
   "execution_count": 84,
   "metadata": {},
   "outputs": [],
   "source": [
    "predictions=linear.predict(x_test)\n"
   ]
  },
  {
   "cell_type": "code",
   "execution_count": 99,
   "metadata": {},
   "outputs": [
    {
     "name": "stdout",
     "output_type": "stream",
     "text": [
      "6.0 [ 7  6  2  0 26] 6\n",
      "7.0 [ 8  8  4  0 10] 8\n",
      "18.0 [18 18  4  0  6] 18\n",
      "8.0 [7 9 4 0 0] 0\n",
      "12.0 [11 12  2  0 10] 13\n",
      "-2.0 [4 0 1 2 0] 0\n",
      "10.0 [12 10  2  0  8] 11\n",
      "7.0 [ 9  7  2  1 20] 8\n",
      "9.0 [10 10  4  0  0] 10\n",
      "14.0 [12 14  1  0  0] 15\n",
      "10.0 [10 10  2  0  4] 10\n",
      "9.0 [9 9 1 0 6] 10\n",
      "7.0 [ 6  8  1  3 16] 8\n",
      "13.0 [12 13  2  0 14] 12\n",
      "18.0 [17 17  2  0 13] 17\n",
      "-2.0 [5 0 1 3 0] 0\n",
      "15.0 [16 15  2  0  0] 15\n",
      "10.0 [ 9 10  2  0  4] 10\n",
      "17.0 [17 17  4  0  0] 18\n",
      "7.0 [7 8 2 0 0] 0\n",
      "16.0 [17 16  2  0  0] 17\n",
      "12.0 [10  9  2  0 75] 9\n",
      "5.0 [ 6  5  1  0 14] 5\n",
      "8.0 [7 9 1 1 2] 8\n",
      "15.0 [13 15  3  0  0] 15\n",
      "7.0 [8 8 2 0 2] 8\n",
      "8.0 [8 9 1 0 0] 8\n",
      "14.0 [14 14  3  0  4] 14\n",
      "12.0 [12 12  2  0 14] 12\n",
      "12.0 [10 13  2  1  6] 13\n",
      "9.0 [8 9 1 0 8] 10\n",
      "11.0 [11 11  4  0  8] 10\n",
      "12.0 [14 12  1  0  4] 11\n",
      "9.0 [ 9 10  3  0  4] 10\n",
      "5.0 [7 6 1 1 0] 0\n",
      "14.0 [15 14  4  0  4] 14\n",
      "11.0 [12 11  2  0 11] 11\n",
      "6.0 [ 7  6  1  0 18] 6\n",
      "9.0 [ 8 10  2  0  0] 12\n",
      "13.0 [12 13  2  0  4] 13\n"
     ]
    }
   ],
   "source": [
    "for x in range(len(predictions)):\n",
    "    print(np.round_(predictions[x]),x_test[x],y_test[x]) #np.around([0.37, 1.64], decimals=1)"
   ]
  },
  {
   "cell_type": "code",
   "execution_count": 3,
   "metadata": {},
   "outputs": [
    {
     "name": "stdout",
     "output_type": "stream",
     "text": [
      "Accuracy: 0.7026571638483448\n",
      "Accuracy: 0.6503859603292403\n",
      "Accuracy: 0.7705528685178971\n",
      "Accuracy: 0.7654242832150762\n",
      "Accuracy: 0.7887807417771383\n",
      "Accuracy: 0.6342085335883454\n",
      "Accuracy: 0.8775305092245745\n",
      "Accuracy: 0.7539794662249841\n",
      "Accuracy: 0.7326433669723376\n",
      "Accuracy: 0.7452772401133333\n",
      "Accuracy: 0.8266001707803557\n",
      "Accuracy: 0.8167939452342243\n",
      "Accuracy: 0.8808784276450722\n",
      "Accuracy: 0.8418805398585533\n",
      "Accuracy: 0.9198518394722837\n",
      "Accuracy: 0.8342526487425287\n",
      "Accuracy: 0.6981852695492677\n",
      "Accuracy: 0.7502833406604086\n",
      "Accuracy: 0.7899204530356055\n",
      "Accuracy: 0.8034348829610933\n",
      "-------------------------\n",
      "Coefficient: \n",
      " [ 0.15695745  0.97631042  0.03911899 -0.27309948 -0.2103677 ]\n",
      "Intercept: \n",
      " -1.5042439770922016\n",
      "-------------------------\n",
      "19.138383827015694 [17 18 21  0  2] 18\n",
      "7.508543313387138 [8 9 0 3 1] 10\n",
      "10.44795654868664 [11 11  3  0  3] 11\n",
      "8.299259255519077 [10  9  2  0  3] 8\n",
      "15.074038771502625 [15 15  0  0  2] 15\n",
      "-1.7491228503089251 [5 0 0 3 1] 0\n",
      "7.750148904441829 [7 9 0 0 3] 8\n",
      "11.727645387383081 [11 12  0  0  1] 10\n",
      "4.968853555111173 [7 6 0 1 1] 0\n",
      "10.227052357090306 [ 9 11  0  0  2] 12\n",
      "5.618172773546586 [7 7 4 2 2] 9\n",
      "9.04037423512737 [ 9 10  0  0  3] 0\n",
      "8.002744464265543 [10  8 14  0  2] 9\n",
      "7.689311032935647 [ 9  8 10  0  2] 8\n",
      "12.379339993183047 [14 12 10  0  2] 11\n",
      "6.375220913109821 [8 7 0 0 1] 6\n",
      "14.307614571754218 [14 14  4  0  1] 14\n",
      "9.407699388899525 [10 10  0  0  2] 10\n",
      "15.62218616857999 [16 15 10  0  2] 15\n",
      "15.152276760085112 [15 15  2  0  2] 14\n",
      "9.196850212292347 [ 9 10  4  0  3] 10\n",
      "8.273950035378963 [8 9 4 0 2] 10\n",
      "11.908949107688231 [12 12  6  0  2] 12\n",
      "14.917081317337704 [14 15  0  0  2] 15\n",
      "10.619205254002633 [11 11  2  0  2] 11\n",
      "16.28554463660573 [16 16  2  0  2] 17\n",
      "13.455607281336174 [12 14  1  0  3] 15\n",
      "8.986963989685052 [10 10  0  0  4] 10\n",
      "11.306428511168667 [10 12  4  0  3] 12\n",
      "-0.772866951709921 [6 0 0 0 1] 0\n",
      "4.133031426208811 [6 5 6 0 2] 6\n",
      "6.764516945657656 [6 8 0 1 1] 8\n",
      "14.068664369844837 [16 14  6  0  4] 15\n",
      "9.328498446317152 [ 8 10  6  0  2] 10\n",
      "13.016426287068793 [10 13 12  0  1] 12\n",
      "10.034566251559319 [12 10  8  0  2] 11\n",
      "11.659943890789691 [13 12  1  0  3] 12\n",
      "18.997162055001674 [18 18  8  0  1] 18\n",
      "14.175966337729415 [15 14  2  0  2] 14\n",
      "9.057774352203674 [11  9 12  0  2] 9\n"
     ]
    },
    {
     "name": "stderr",
     "output_type": "stream",
     "text": [
      "No handles with labels found to put in legend.\n"
     ]
    },
    {
     "data": {
      "image/png": "[encoded data removed]",
      "text/plain": [
       "<Figure size 432x288 with 1 Axes>"
      ]
     },
     "metadata": {},
     "output_type": "display_data"
    }
   ],
   "source": [
    "#Import Library\n",
    "import numpy as np\n",
    "import pandas as pd\n",
    "from sklearn import linear_model\n",
    "import sklearn\n",
    "from sklearn.utils import shuffle\n",
    "import matplotlib.pyplot as plt\n",
    "from matplotlib import style\n",
    "import pickle\n",
    "\n",
    "style.use(\"ggplot\")\n",
    "\n",
    "data = pd.read_csv('C:/Users/2ez4rtz/Desktop/Github repository/materials/python/student-mat.csv',sep=\";\")\n",
    "\n",
    "predict = \"G3\"\n",
    "\n",
    "data = data[[\"G1\", \"G2\", \"absences\",\"failures\", \"studytime\",\"G3\"]]\n",
    "data = shuffle(data) # Optional - shuffle the data\n",
    "\n",
    "x = np.array(data.drop([predict], 1))\n",
    "y =np.array(data[predict])\n",
    "x_train, x_test, y_train, y_test = sklearn.model_selection.train_test_split(x, y, test_size=0.1)\n",
    "\n",
    "\n",
    "# TRAIN MODEL MULTIPLE TIMES FOR BEST SCORE\n",
    "best = 0\n",
    "for _ in range(20):\n",
    "    x_train, x_test, y_train, y_test = sklearn.model_selection.train_test_split(x, y, test_size=0.1)\n",
    "\n",
    "    linear = linear_model.LinearRegression()\n",
    "\n",
    "    linear.fit(x_train, y_train)\n",
    "    acc = linear.score(x_test, y_test)\n",
    "    print(\"Accuracy: \" + str(acc))\n",
    "\n",
    "    if acc > best:\n",
    "        best = acc\n",
    "        with open(\"studentgrades.pickle\", \"wb\") as f:\n",
    "            pickle.dump(linear, f)\n",
    "\n",
    "# LOAD MODEL\n",
    "pickle_in = open(\"studentgrades.pickle\", \"rb\")\n",
    "linear = pickle.load(pickle_in)\n",
    "\n",
    "\n",
    "print(\"-------------------------\")\n",
    "print('Coefficient: \\n', linear.coef_)\n",
    "print('Intercept: \\n', linear.intercept_)\n",
    "print(\"-------------------------\")\n",
    "\n",
    "predicted= linear.predict(x_test)\n",
    "for x in range(len(predicted)):\n",
    "    print(predicted[x], x_test[x], y_test[x])\n",
    "\n",
    "\n",
    "# Drawing and plotting model\n",
    "plot = \"failures\"\n",
    "plt.scatter(data[plot], data[\"G3\"])\n",
    "plt.legend(loc=4)\n",
    "plt.xlabel(plot)\n",
    "plt.ylabel(\"Final Grade\")\n",
    "plt.show()"
   ]
  },
  {
   "cell_type": "code",
   "execution_count": null,
   "metadata": {},
   "outputs": [],
   "source": []
  },
  {
   "cell_type": "code",
   "execution_count": null,
   "metadata": {},
   "outputs": [],
   "source": []
  }
 ],
 "metadata": {
  "kernelspec": {
   "display_name": "Python 3",
   "language": "python",
   "name": "python3"
  },
  "language_info": {
   "codemirror_mode": {
    "name": "ipython",
    "version": 3
   },
   "file_extension": ".py",
   "mimetype": "text/x-python",
   "name": "python",
   "nbconvert_exporter": "python",
   "pygments_lexer": "ipython3",
   "version": "3.7.3"
  }
 },
 "nbformat": 4,
 "nbformat_minor": 2
}
